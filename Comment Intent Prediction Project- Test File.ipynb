{
 "cells": [
  {
   "cell_type": "code",
   "execution_count": 1,
   "id": "1eabc32c",
   "metadata": {},
   "outputs": [],
   "source": [
    "import pandas as pd\n",
    "import numpy as np"
   ]
  },
  {
   "cell_type": "code",
   "execution_count": 2,
   "id": "9d5c602a",
   "metadata": {},
   "outputs": [],
   "source": [
    "import warnings\n",
    "warnings.filterwarnings('ignore')\n",
    "pd. set_option(\"display.max_columns\", 35)"
   ]
  },
  {
   "cell_type": "code",
   "execution_count": 3,
   "id": "2e2bf896",
   "metadata": {},
   "outputs": [
    {
     "data": {
      "text/html": [
       "<div>\n",
       "<style scoped>\n",
       "    .dataframe tbody tr th:only-of-type {\n",
       "        vertical-align: middle;\n",
       "    }\n",
       "\n",
       "    .dataframe tbody tr th {\n",
       "        vertical-align: top;\n",
       "    }\n",
       "\n",
       "    .dataframe thead th {\n",
       "        text-align: right;\n",
       "    }\n",
       "</style>\n",
       "<table border=\"1\" class=\"dataframe\">\n",
       "  <thead>\n",
       "    <tr style=\"text-align: right;\">\n",
       "      <th></th>\n",
       "      <th>Unnamed: 0</th>\n",
       "      <th>GroupName</th>\n",
       "      <th>PostType</th>\n",
       "      <th>ProfileName</th>\n",
       "      <th>Message</th>\n",
       "    </tr>\n",
       "  </thead>\n",
       "  <tbody>\n",
       "    <tr>\n",
       "      <th>0</th>\n",
       "      <td>24261</td>\n",
       "      <td>523</td>\n",
       "      <td>1</td>\n",
       "      <td>Kedar Vedpathak</td>\n",
       "      <td>need augment reality mobile app developers fre...</td>\n",
       "    </tr>\n",
       "    <tr>\n",
       "      <th>1</th>\n",
       "      <td>121962</td>\n",
       "      <td>1628</td>\n",
       "      <td>0</td>\n",
       "      <td>&amp;#x647;&amp;#x627;&amp;#x62c;&amp;#x631; &amp;#x642;&amp;#x637;&amp;#x...</td>\n",
       "      <td>anyone want travel egypt volunteer years old</td>\n",
       "    </tr>\n",
       "    <tr>\n",
       "      <th>2</th>\n",
       "      <td>36438</td>\n",
       "      <td>287</td>\n",
       "      <td>0</td>\n",
       "      <td>Sivaji Kottapalli</td>\n",
       "      <td>best time investment opportunity hyderabad res...</td>\n",
       "    </tr>\n",
       "    <tr>\n",
       "      <th>3</th>\n",
       "      <td>129470</td>\n",
       "      <td>287</td>\n",
       "      <td>0</td>\n",
       "      <td>Youandwe Planners</td>\n",
       "      <td>promotion post fashion freak organise event pl...</td>\n",
       "    </tr>\n",
       "    <tr>\n",
       "      <th>4</th>\n",
       "      <td>21385</td>\n",
       "      <td>1320</td>\n",
       "      <td>0</td>\n",
       "      <td>Muhammad Sajid Younis</td>\n",
       "      <td>contact trouble free car maintenance do recent...</td>\n",
       "    </tr>\n",
       "  </tbody>\n",
       "</table>\n",
       "</div>"
      ],
      "text/plain": [
       "   Unnamed: 0  GroupName  PostType  \\\n",
       "0       24261        523         1   \n",
       "1      121962       1628         0   \n",
       "2       36438        287         0   \n",
       "3      129470        287         0   \n",
       "4       21385       1320         0   \n",
       "\n",
       "                                         ProfileName  \\\n",
       "0                                    Kedar Vedpathak   \n",
       "1  &#x647;&#x627;&#x62c;&#x631; &#x642;&#x637;&#x...   \n",
       "2                                  Sivaji Kottapalli   \n",
       "3                                  Youandwe Planners   \n",
       "4                              Muhammad Sajid Younis   \n",
       "\n",
       "                                             Message  \n",
       "0  need augment reality mobile app developers fre...  \n",
       "1       anyone want travel egypt volunteer years old  \n",
       "2  best time investment opportunity hyderabad res...  \n",
       "3  promotion post fashion freak organise event pl...  \n",
       "4  contact trouble free car maintenance do recent...  "
      ]
     },
     "execution_count": 3,
     "metadata": {},
     "output_type": "execute_result"
    }
   ],
   "source": [
    "df=pd.read_csv('df_testi.csv',encoding = \"ISO-8859-1\")\n",
    "df.head()"
   ]
  },
  {
   "cell_type": "code",
   "execution_count": 4,
   "id": "b9f9d611",
   "metadata": {},
   "outputs": [
    {
     "name": "stdout",
     "output_type": "stream",
     "text": [
      "Shape Of The Dataset :- (101885, 5)\n",
      "\n",
      " Number Of Null Values In Every Column \n",
      " Unnamed: 0        0\n",
      "GroupName         0\n",
      "PostType          0\n",
      "ProfileName     100\n",
      "Message        6378\n",
      "dtype: int64\n"
     ]
    }
   ],
   "source": [
    "## dataset shape \n",
    "print(f\"{'shape of the dataset'.title()} :- {df.shape}\")\n",
    "\n",
    "## missing values\n",
    "print(f\"\\n {'Number of null values in every column'.title()} \\n {df.isnull().sum()}\")"
   ]
  },
  {
   "cell_type": "code",
   "execution_count": 5,
   "id": "af185427",
   "metadata": {},
   "outputs": [],
   "source": [
    "df=df.dropna()"
   ]
  },
  {
   "cell_type": "code",
   "execution_count": 6,
   "id": "d4415ddf",
   "metadata": {},
   "outputs": [
    {
     "data": {
      "text/plain": [
       "(95408, 5)"
      ]
     },
     "execution_count": 6,
     "metadata": {},
     "output_type": "execute_result"
    }
   ],
   "source": [
    "df.shape"
   ]
  },
  {
   "cell_type": "code",
   "execution_count": 7,
   "id": "b6952621",
   "metadata": {},
   "outputs": [],
   "source": [
    "import re\n",
    "import string\n",
    "from nltk.corpus import stopwords\n",
    "from nltk.tokenize import word_tokenize\n",
    "from nltk.stem import WordNetLemmatizer\n",
    "lemma=WordNetLemmatizer()"
   ]
  },
  {
   "cell_type": "code",
   "execution_count": 8,
   "id": "93b2c14f",
   "metadata": {},
   "outputs": [],
   "source": [
    "stop_words = set(stopwords.words('english'))\n",
    "for x in range(ord('b'), ord('z')+1):\n",
    "    stop_words.add(chr(x))"
   ]
  },
  {
   "cell_type": "code",
   "execution_count": 9,
   "id": "de1302d3",
   "metadata": {},
   "outputs": [],
   "source": [
    "#Preprocessing of Text data\n",
    "def cleaning_data(row):\n",
    "    row=row.lower()\n",
    "    row=re.sub('[^a-zA-Z]',' ',row)\n",
    "    tokens = word_tokenize(row)\n",
    "    message = [lemma.lemmatize(word,pos=\"v\") for word in tokens if not word in stop_words]\n",
    "    cleaned_message=' '.join(message)\n",
    "    \n",
    "    return cleaned_message"
   ]
  },
  {
   "cell_type": "code",
   "execution_count": 10,
   "id": "d35fc88d",
   "metadata": {},
   "outputs": [],
   "source": [
    "df.Message=df.Message.apply(cleaning_data)"
   ]
  },
  {
   "cell_type": "code",
   "execution_count": 17,
   "id": "b839c2f0",
   "metadata": {},
   "outputs": [
    {
     "data": {
      "text/plain": [
       "TfidfVectorizer(max_features=150918, sublinear_tf=True)"
      ]
     },
     "execution_count": 17,
     "metadata": {},
     "output_type": "execute_result"
    }
   ],
   "source": [
    "from sklearn.feature_extraction.text import TfidfVectorizer\n",
    "\n",
    "tf_vector = TfidfVectorizer(sublinear_tf=True,max_features=150918)\n",
    "tf_vector.fit(df['Message'])"
   ]
  },
  {
   "cell_type": "code",
   "execution_count": 18,
   "id": "55237520",
   "metadata": {},
   "outputs": [],
   "source": [
    "x = tf_vector.transform(df['Message'].ravel())"
   ]
  },
  {
   "cell_type": "code",
   "execution_count": 19,
   "id": "b2e697b0",
   "metadata": {},
   "outputs": [
    {
     "data": {
      "text/plain": [
       "(95408, 150918)"
      ]
     },
     "execution_count": 19,
     "metadata": {},
     "output_type": "execute_result"
    }
   ],
   "source": [
    "x.shape"
   ]
  },
  {
   "cell_type": "code",
   "execution_count": 23,
   "id": "11b9b8fc",
   "metadata": {},
   "outputs": [],
   "source": [
    "import joblib\n",
    "model=joblib.load('DTCmodel.pkl')"
   ]
  },
  {
   "cell_type": "code",
   "execution_count": 24,
   "id": "11d72710",
   "metadata": {},
   "outputs": [],
   "source": [
    "pred=model.predict(x)"
   ]
  },
  {
   "cell_type": "code",
   "execution_count": 25,
   "id": "8a7ad2da",
   "metadata": {},
   "outputs": [],
   "source": [
    "pred3=pd.DataFrame(pred,columns=['Label'])"
   ]
  },
  {
   "cell_type": "code",
   "execution_count": 26,
   "id": "535b5f43",
   "metadata": {},
   "outputs": [],
   "source": [
    "pred3.to_csv('Preddtc.csv')"
   ]
  }
 ],
 "metadata": {
  "kernelspec": {
   "display_name": "Python 3",
   "language": "python",
   "name": "python3"
  },
  "language_info": {
   "codemirror_mode": {
    "name": "ipython",
    "version": 3
   },
   "file_extension": ".py",
   "mimetype": "text/x-python",
   "name": "python",
   "nbconvert_exporter": "python",
   "pygments_lexer": "ipython3",
   "version": "3.8.8"
  }
 },
 "nbformat": 4,
 "nbformat_minor": 5
}
